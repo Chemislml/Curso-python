{
 "cells": [
  {
   "cell_type": "markdown",
   "metadata": {},
   "source": [
    "# Clase 3"
   ]
  },
  {
   "cell_type": "markdown",
   "metadata": {},
   "source": [
    "For, element=e"
   ]
  },
  {
   "cell_type": "markdown",
   "metadata": {},
   "source": [
    "ACTIVIDAD 6"
   ]
  },
  {
   "cell_type": "code",
   "execution_count": 6,
   "metadata": {},
   "outputs": [
    {
     "name": "stdout",
     "output_type": "stream",
     "text": [
      "Felicidades aprobaste la materia con promedio de: 9.25\n"
     ]
    }
   ],
   "source": [
    "numero= int(input(\"Ingresa el numero de calf\"))\n",
    "\n",
    "calificaciones =[]\n",
    "\n",
    "for i in range (numero):\n",
    "    calificacion = int(input(f\"Dame la calificacion: {i+1}\"))\n",
    "    calificaciones.append(calificacion)\n",
    "\n",
    "    promedio= sum(calificaciones)/ len(calificaciones)\n",
    "\n",
    "if promedio>=6:\n",
    "    print(f\"Felicidades aprobaste la materia con promedio de: {promedio}\")\n",
    "else:\n",
    "    print(f\"Estas reprobado con promedio de:{promedio}\")\n"
   ]
  },
  {
   "attachments": {},
   "cell_type": "markdown",
   "metadata": {},
   "source": [
    "Try----except= Seguir el programa-----seperarar como string el error."
   ]
  }
 ],
 "metadata": {
  "kernelspec": {
   "display_name": "Python 3.11.0 64-bit",
   "language": "python",
   "name": "python3"
  },
  "language_info": {
   "codemirror_mode": {
    "name": "ipython",
    "version": 3
   },
   "file_extension": ".py",
   "mimetype": "text/x-python",
   "name": "python",
   "nbconvert_exporter": "python",
   "pygments_lexer": "ipython3",
   "version": "3.11.0"
  },
  "orig_nbformat": 4,
  "vscode": {
   "interpreter": {
    "hash": "b91f41160b83ffc59c7e17fa6fd02d637d5dcf1d5e59aa2db87d82178661b954"
   }
  }
 },
 "nbformat": 4,
 "nbformat_minor": 2
}
